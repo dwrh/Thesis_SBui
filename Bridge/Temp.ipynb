{
 "metadata": {
  "language_info": {
   "codemirror_mode": {
    "name": "ipython",
    "version": 3
   },
   "file_extension": ".py",
   "mimetype": "text/x-python",
   "name": "python",
   "nbconvert_exporter": "python",
   "pygments_lexer": "ipython3",
   "version": "3.9.0-final"
  },
  "orig_nbformat": 2,
  "kernelspec": {
   "name": "python3",
   "display_name": "Python 3.9.0 64-bit",
   "metadata": {
    "interpreter": {
     "hash": "aee8b7b246df8f9039afb4144a1f6fd8d2ca17a180786b69acc140d282b71a49"
    }
   }
  }
 },
 "nbformat": 4,
 "nbformat_minor": 2,
 "cells": [
  {
   "cell_type": "code",
   "execution_count": 7,
   "metadata": {},
   "outputs": [
    {
     "output_type": "execute_result",
     "data": {
      "text/plain": [
       "<IPython.lib.display.IFrame at 0x7fa8d846d9d0>"
      ],
      "text/html": "\n        <iframe\n            width=\"100%\"\n            height=\"500px\"\n            src=\"https://coderefinery.github.io/jupyter/\"\n            frameborder=\"0\"\n            allowfullscreen\n        ></iframe>\n        "
     },
     "metadata": {},
     "execution_count": 7
    }
   ],
   "source": [
    "from IPython.display import IFrame\n",
    "IFrame(src=\"https://coderefinery.github.io/jupyter/\", width='100%', height='500px')"
   ]
  },
  {
   "cell_type": "code",
   "execution_count": 10,
   "metadata": {},
   "outputs": [
    {
     "output_type": "error",
     "ename": "SyntaxError",
     "evalue": "invalid syntax (<ipython-input-10-cf3e3148053f>, line 1)",
     "traceback": [
      "\u001b[0;36m  File \u001b[0;32m\"<ipython-input-10-cf3e3148053f>\"\u001b[0;36m, line \u001b[0;32m1\u001b[0m\n\u001b[0;31m    - square area: $s = (2 r)^2$\u001b[0m\n\u001b[0m             ^\u001b[0m\n\u001b[0;31mSyntaxError\u001b[0m\u001b[0;31m:\u001b[0m invalid syntax\n"
     ]
    }
   ],
   "source": [
    "- square area: $s = (2 r)^2$\n",
    " - circle area: $c = \\pi r^2$\n",
    " - $c/s = (\\pi r^2) / (4 r^2) = \\pi / 4$\n",
    " - $\\pi = 4 * c/s$"
   ]
  },
  {
   "cell_type": "code",
   "execution_count": null,
   "metadata": {},
   "outputs": [],
   "source": []
  },
  {
   "cell_type": "code",
   "execution_count": 9,
   "metadata": {},
   "outputs": [
    {
     "output_type": "error",
     "ename": "SyntaxError",
     "evalue": "invalid syntax (<ipython-input-9-e2472fdb4935>, line 1)",
     "traceback": [
      "\u001b[0;36m  File \u001b[0;32m\"<ipython-input-9-e2472fdb4935>\"\u001b[0;36m, line \u001b[0;32m1\u001b[0m\n\u001b[0;31m    Easy:\u001b[0m\n\u001b[0m         ^\u001b[0m\n\u001b[0;31mSyntaxError\u001b[0m\u001b[0;31m:\u001b[0m invalid syntax\n"
     ]
    }
   ],
   "source": [
    "\n",
    "Easy:\n",
    "https://coderefinery.github.io/jupyter/03-basic-workflow/\n",
    "\n",
    "Medium:\n",
    "https://risk-engineering.org/notebook/monte-carlo-pi.html\n",
    "\n",
    "More difficult:\n",
    "https://github.com/MishaShapo/Monte_Carlo_Stocks/blob/master/Simulating_Stock_Prices_with_Monte_Carlo_Methods.ipynb\n",
    "\n"
   ]
  },
  {
   "cell_type": "code",
   "execution_count": null,
   "metadata": {},
   "outputs": [],
   "source": []
  }
 ]
}